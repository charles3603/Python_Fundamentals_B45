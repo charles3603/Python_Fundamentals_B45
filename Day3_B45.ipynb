{
 "cells": [
  {
   "cell_type": "code",
   "execution_count": null,
   "metadata": {},
   "outputs": [],
   "source": [
    "-----Introducton to String Methods-------\n",
    "Methods are built in programs that are already available in Python\n",
    "Type Command--> Validates and Confirms the data types"
   ]
  },
  {
   "cell_type": "code",
   "execution_count": 4,
   "metadata": {},
   "outputs": [
    {
     "name": "stdout",
     "output_type": "stream",
     "text": [
      "Dileep\n"
     ]
    },
    {
     "data": {
      "text/plain": [
       "str"
      ]
     },
     "execution_count": 4,
     "metadata": {},
     "output_type": "execute_result"
    }
   ],
   "source": [
    "name1 = 'Dileep'\n",
    "print(name1)\n",
    "type(name1)"
   ]
  },
  {
   "cell_type": "code",
   "execution_count": 5,
   "metadata": {},
   "outputs": [
    {
     "name": "stdout",
     "output_type": "stream",
     "text": [
      "dileep simhadri\n"
     ]
    }
   ],
   "source": [
    "fullname = 'dileep simhadri'\n",
    "print(fullname)"
   ]
  },
  {
   "cell_type": "code",
   "execution_count": 8,
   "metadata": {},
   "outputs": [
    {
     "name": "stdout",
     "output_type": "stream",
     "text": [
      "Dileep Simhadri\n"
     ]
    }
   ],
   "source": [
    "#Req: How to correct the format\n",
    "print(fullname.title()) #title command converts first letter to Uppercase"
   ]
  },
  {
   "cell_type": "code",
   "execution_count": 9,
   "metadata": {},
   "outputs": [
    {
     "name": "stdout",
     "output_type": "stream",
     "text": [
      "DILEEP SIMHADRI\n"
     ]
    }
   ],
   "source": [
    "##Req: Print name in Uppercase\n",
    "print(fullname.upper()) #Upper Command converts into all characters into Uppercase"
   ]
  },
  {
   "cell_type": "code",
   "execution_count": 10,
   "metadata": {},
   "outputs": [
    {
     "name": "stdout",
     "output_type": "stream",
     "text": [
      "dileep simhadri\n"
     ]
    }
   ],
   "source": [
    "##Req: Print name in Lowercase\n",
    "print(fullname.lower()) #Lower Command converts into all characters into Lowercase"
   ]
  },
  {
   "cell_type": "code",
   "execution_count": null,
   "metadata": {},
   "outputs": [],
   "source": [
    "-----------Introducton to F Strings-------\n",
    "Overview: It is used for concatenation of multiple items.\n",
    "#general syntax of f strings:\n",
    "f\" customwords {placeholder1}{placeholder1}......{placeholdern}\""
   ]
  },
  {
   "cell_type": "code",
   "execution_count": 12,
   "metadata": {},
   "outputs": [],
   "source": [
    "firstname = 'dileep'\n",
    "lastname = 'simhadri'"
   ]
  },
  {
   "cell_type": "code",
   "execution_count": 14,
   "metadata": {},
   "outputs": [
    {
     "name": "stdout",
     "output_type": "stream",
     "text": [
      "dileep simhadri\n"
     ]
    }
   ],
   "source": [
    "#req: Get the fullname\n",
    "fullname = f\"{firstname} {lastname}\"\n",
    "print(fullname)"
   ]
  },
  {
   "cell_type": "code",
   "execution_count": 16,
   "metadata": {},
   "outputs": [
    {
     "name": "stdout",
     "output_type": "stream",
     "text": [
      "Keep up the good work, Dileep Simhadri\n"
     ]
    }
   ],
   "source": [
    "#req: To include custom words in f string\n",
    "message = f\"Keep up the good work, {fullname.title()}\"\n",
    "print(message)"
   ]
  },
  {
   "cell_type": "code",
   "execution_count": null,
   "metadata": {},
   "outputs": [],
   "source": [
    "---Adding whitespaces to strings--"
   ]
  },
  {
   "cell_type": "code",
   "execution_count": 19,
   "metadata": {},
   "outputs": [
    {
     "name": "stdout",
     "output_type": "stream",
     "text": [
      "favorite_language:pythoncjavac++swiftcobal\n"
     ]
    }
   ],
   "source": [
    "#Scenario: Conducting a survey among a group of students to choose their favorite programming language\n",
    "print(\"favorite_language:pythoncjavac++swiftcobal\")"
   ]
  },
  {
   "cell_type": "code",
   "execution_count": 21,
   "metadata": {},
   "outputs": [
    {
     "name": "stdout",
     "output_type": "stream",
     "text": [
      "favorite_language:\n",
      "python\n",
      "c\n",
      "java\n",
      "c++\n",
      "swift\n",
      "cobal\n"
     ]
    }
   ],
   "source": [
    "#Enhancement of the code...with new line delimiter\n",
    "#\\n ---->new line delimiter. Splits or breaking down the code into a new line.....\n",
    "print(\"favorite_language:\\npython\\nc\\njava\\nc++\\nswift\\ncobal\")"
   ]
  },
  {
   "cell_type": "code",
   "execution_count": 22,
   "metadata": {},
   "outputs": [
    {
     "name": "stdout",
     "output_type": "stream",
     "text": [
      "favorite_language:\n",
      "\tpython\n",
      "\tc\n",
      "\tjava\n",
      "\tc++\n",
      "\tswift\n",
      "\tcobal\n"
     ]
    }
   ],
   "source": [
    "#Enhancement of the code...with tab delimiter\n",
    "print(\"favorite_language:\\n\\tpython\\n\\tc\\n\\tjava\\n\\tc++\\n\\tswift\\n\\tcobal\")"
   ]
  },
  {
   "cell_type": "code",
   "execution_count": 24,
   "metadata": {},
   "outputs": [
    {
     "name": "stdout",
     "output_type": "stream",
     "text": [
      "python\n",
      " python\n",
      "python \n",
      " python \n"
     ]
    }
   ],
   "source": [
    "####Removing whitespaces from strings--------\n",
    "name = 'python' #valid output\n",
    "name1 = ' python' #Leading Space\n",
    "name2 = 'python ' #Trailing Space\n",
    "name3 = ' python ' #Leading and Trailing space\n",
    "print(name)\n",
    "print(name1)\n",
    "print(name2)\n",
    "print(name3)"
   ]
  },
  {
   "cell_type": "code",
   "execution_count": 26,
   "metadata": {},
   "outputs": [
    {
     "data": {
      "text/plain": [
       "'python'"
      ]
     },
     "execution_count": 26,
     "metadata": {},
     "output_type": "execute_result"
    }
   ],
   "source": [
    "name1.lstrip() #left strip to remove leading spaces S+E"
   ]
  },
  {
   "cell_type": "code",
   "execution_count": 28,
   "metadata": {},
   "outputs": [
    {
     "data": {
      "text/plain": [
       "'python'"
      ]
     },
     "execution_count": 28,
     "metadata": {},
     "output_type": "execute_result"
    }
   ],
   "source": [
    "name2.rstrip() #right strip to remove trailing spaces S+E"
   ]
  },
  {
   "cell_type": "code",
   "execution_count": 29,
   "metadata": {},
   "outputs": [
    {
     "data": {
      "text/plain": [
       "'python'"
      ]
     },
     "execution_count": 29,
     "metadata": {},
     "output_type": "execute_result"
    }
   ],
   "source": [
    "name3.strip() #strip to remove leading and trailing spaces.Search option and  elimination."
   ]
  },
  {
   "cell_type": "code",
   "execution_count": null,
   "metadata": {},
   "outputs": [],
   "source": [
    "### Note: Variables consider last assigned value. Data is fixed and cannot be updated. Hence it is called immutable."
   ]
  },
  {
   "cell_type": "code",
   "execution_count": null,
   "metadata": {
    "collapsed": true
   },
   "outputs": [],
   "source": []
  }
 ],
 "metadata": {
  "kernelspec": {
   "display_name": "Python 3",
   "language": "python",
   "name": "python3"
  },
  "language_info": {
   "codemirror_mode": {
    "name": "ipython",
    "version": 3
   },
   "file_extension": ".py",
   "mimetype": "text/x-python",
   "name": "python",
   "nbconvert_exporter": "python",
   "pygments_lexer": "ipython3",
   "version": "3.8.5"
  }
 },
 "nbformat": 4,
 "nbformat_minor": 4
}
